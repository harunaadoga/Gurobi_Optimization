{
 "cells": [
  {
   "cell_type": "code",
   "execution_count": 2,
   "id": "d96a10bc",
   "metadata": {},
   "outputs": [
    {
     "name": "stdout",
     "output_type": "stream",
     "text": [
      "Gurobi Optimizer version 9.5.0 build v9.5.0rc5 (mac64[arm])\n",
      "Thread count: 8 physical cores, 8 logical processors, using up to 8 threads\n",
      "Optimize a model with 3 rows, 3 columns and 7 nonzeros\n",
      "Model fingerprint: 0x8a1c7e4e\n",
      "Variable types: 1 continuous, 2 integer (1 binary)\n",
      "Coefficient statistics:\n",
      "  Matrix range     [1e+00, 2e+00]\n",
      "  Objective range  [1e+00, 3e+00]\n",
      "  Bounds range     [1e+00, 1e+00]\n",
      "  RHS range        [1e+00, 5e+00]\n",
      "Found heuristic solution: objective 3.5000000\n",
      "Presolve removed 3 rows and 3 columns\n",
      "Presolve time: 0.00s\n",
      "Presolve: All rows and columns removed\n",
      "\n",
      "Explored 0 nodes (0 simplex iterations) in 0.00 seconds (0.00 work units)\n",
      "Thread count was 1 (of 8 available processors)\n",
      "\n",
      "Solution count 2: 8.5 3.5 \n",
      "\n",
      "Optimal solution found (tolerance 1.00e-04)\n",
      "Best objective 8.500000000000e+00, best bound 8.500000000000e+00, gap 0.0000%\n",
      "Objective Function Value: 8.50\n",
      "x: 1\n",
      "y: 0.5\n",
      "z: 2\n"
     ]
    },
    {
     "data": {
      "text/plain": [
       "' \\n\\nSolution count 2: 8.5 3.5 \\n\\nOptimal solution found (tolerance 1.00e-04)\\nBest objective 8.500000000000e+00, best bound 8.500000000000e+00, gap 0.0000%\\nObjective Function Value: 8.50\\nx: 1\\ny: 0.5\\nz: 2\\n\\n'"
      ]
     },
     "execution_count": 2,
     "metadata": {},
     "output_type": "execute_result"
    }
   ],
   "source": [
    "\"\"\"GOAL: Maximize 2x + y + 3z\n",
    "    subject to\n",
    "                x + 2y + z  <= 4\n",
    "                2z + y      <= 5\n",
    "                x + y      >= 1\n",
    "                x        E(0,1)\n",
    "                y,z >= 0\n",
    "                z E Z\n",
    "\"\"\"\n",
    "#step 1: Import gurobipy package\n",
    "from gurobipy import *\n",
    "\n",
    "#step 2: Create optimization model for milp\n",
    "milp_model = Model(\"milp\")\n",
    "\n",
    "#Step 3: Add decision variables\n",
    "x = milp_model.addVar(vtype=GRB.BINARY, name=\"x\")\n",
    "y = milp_model.addVar(vtype=GRB.CONTINUOUS, lb=0, name=\"y\")\n",
    "z = milp_model.addVar(vtype=GRB.INTEGER, lb=0, name=\"z\")\n",
    "\n",
    "# Step 4: Add the objective function\n",
    "obj_fn = 2 * x + y + 3 * z\n",
    "milp_model.setObjective(obj_fn, GRB.MAXIMIZE)\n",
    "\n",
    "#Step 5: Add the constraints\n",
    "c1 = milp_model.addConstr(x + 2 * y + z <= 4, \"c1\")\n",
    "c2 = milp_model.addConstr(2 * z + y <= 5, \"c2\")\n",
    "c3 = milp_model.addConstr(x + y >= 1, \"c3\")\n",
    "\n",
    "#Step 6: Solve the model\n",
    "milp_model.optimize()\n",
    "\n",
    "#Step 7: Output the result\n",
    "print('Objective Function Value: %.2f' % milp_model.objVal)\n",
    "#Get values of the decision variables\n",
    "for v in milp_model.getVars():\n",
    "    print('%s: %g' % (v.varName, v.x))\n",
    "\n",
    "\n",
    "#Output\n",
    "\"\"\" \n",
    "\n",
    "Solution count 2: 8.5 3.5 \n",
    "\n",
    "Optimal solution found (tolerance 1.00e-04)\n",
    "Best objective 8.500000000000e+00, best bound 8.500000000000e+00, gap 0.0000%\n",
    "\n",
    "Objective Function Value: 8.50\n",
    "x: 1\n",
    "y: 0.5\n",
    "z: 2\n",
    "\n",
    "\"\"\""
   ]
  },
  {
   "cell_type": "code",
   "execution_count": null,
   "id": "92f7bb15",
   "metadata": {},
   "outputs": [],
   "source": []
  },
  {
   "cell_type": "code",
   "execution_count": null,
   "id": "184eb311",
   "metadata": {},
   "outputs": [],
   "source": []
  },
  {
   "cell_type": "code",
   "execution_count": null,
   "id": "3467de3f",
   "metadata": {},
   "outputs": [],
   "source": []
  }
 ],
 "metadata": {
  "interpreter": {
   "hash": "b0fa6594d8f4cbf19f97940f81e996739fb7646882a419484c72d19e05852a7e"
  },
  "kernelspec": {
   "display_name": "Python 3 (ipykernel)",
   "language": "python",
   "name": "python3"
  },
  "language_info": {
   "codemirror_mode": {
    "name": "ipython",
    "version": 3
   },
   "file_extension": ".py",
   "mimetype": "text/x-python",
   "name": "python",
   "nbconvert_exporter": "python",
   "pygments_lexer": "ipython3",
   "version": "3.9.13"
  }
 },
 "nbformat": 4,
 "nbformat_minor": 5
}
