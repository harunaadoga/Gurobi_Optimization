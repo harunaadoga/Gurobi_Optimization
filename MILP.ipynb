{
 "cells": [
  {
   "cell_type": "code",
   "execution_count": 1,
   "id": "d96a10bc",
   "metadata": {},
   "outputs": [
    {
     "ename": "ModuleNotFoundError",
     "evalue": "No module named 'gurobipy'",
     "output_type": "error",
     "traceback": [
      "\u001b[0;31m---------------------------------------------------------------------------\u001b[0m",
      "\u001b[0;31mModuleNotFoundError\u001b[0m                       Traceback (most recent call last)",
      "Cell \u001b[0;32mIn[1], line 11\u001b[0m\n\u001b[1;32m      1\u001b[0m \u001b[38;5;124;03m\"\"\"GOAL: Maximize 2x + y + 3z\u001b[39;00m\n\u001b[1;32m      2\u001b[0m \u001b[38;5;124;03m    subject to\u001b[39;00m\n\u001b[1;32m      3\u001b[0m \u001b[38;5;124;03m                x + 2y + z  <= 4\u001b[39;00m\n\u001b[0;32m   (...)\u001b[0m\n\u001b[1;32m      8\u001b[0m \u001b[38;5;124;03m                z E Z\u001b[39;00m\n\u001b[1;32m      9\u001b[0m \u001b[38;5;124;03m\"\"\"\u001b[39;00m\n\u001b[1;32m     10\u001b[0m \u001b[38;5;66;03m#step 1: Import gurobipy package\u001b[39;00m\n\u001b[0;32m---> 11\u001b[0m \u001b[38;5;28;01mfrom\u001b[39;00m \u001b[38;5;21;01mgurobipy\u001b[39;00m \u001b[38;5;28;01mimport\u001b[39;00m \u001b[38;5;241m*\u001b[39m\n\u001b[1;32m     13\u001b[0m \u001b[38;5;66;03m#step 2: Create optimization model for milp\u001b[39;00m\n\u001b[1;32m     14\u001b[0m milp_model \u001b[38;5;241m=\u001b[39m Model(\u001b[38;5;124m\"\u001b[39m\u001b[38;5;124mmilp\u001b[39m\u001b[38;5;124m\"\u001b[39m)\n",
      "\u001b[0;31mModuleNotFoundError\u001b[0m: No module named 'gurobipy'"
     ]
    }
   ],
   "source": [
    "\"\"\"GOAL: Maximize 2x + y + 3z\n",
    "    subject to\n",
    "                x + 2y + z  <= 4\n",
    "                2z + y      <= 5\n",
    "                x + y      >= 1\n",
    "                x        E(0,1)\n",
    "                y,z >= 0\n",
    "                z E Z\n",
    "\"\"\"\n",
    "#step 1: Import gurobipy package\n",
    "from gurobipy import *\n",
    "\n",
    "#step 2: Create optimization model for milp\n",
    "milp_model = Model(\"milp\")\n",
    "\n",
    "#Step 3: Add decision variables\n",
    "x = milp_model.addVar(vtype=GRB.BINARY, name=\"x\")\n",
    "y = milp_model.addVar(vtype=GRB.CONTINUOUS, lb=0, name=\"y\")\n",
    "z = milp_model.addVar(vtype=GRB.INTEGER, lb=0, name=\"z\")\n",
    "\n",
    "# Step 4: Add the objective function\n",
    "obj_fn = 2 * x + y + 3 * z\n",
    "milp_model.setObjective(obj_fn, GRB.MAXIMIZE)\n",
    "\n",
    "#Step 5: Add the constraints\n",
    "c1 = milp_model.addConstr(x + 2 * y + z <= 4, \"c1\")\n",
    "c2 = milp_model.addConstr(2 * z + y <= 5, \"c2\")\n",
    "c3 = milp_model.addConstr(x + y >= 1, \"c3\")\n",
    "\n",
    "#Step 6: Solve the model\n",
    "milp_model.optimize()\n",
    "\n",
    "#Step 7: Output the result\n",
    "print('Objective Function Value: %.2f' % milp_model.objVal)\n",
    "#Get values of the decision variables\n",
    "for v in milp_model.getVars():\n",
    "    print('%s: %g' % (v.varName, v.x))\n",
    "\n",
    "\n",
    "#Output\n",
    "\"\"\" \n",
    "\n",
    "Solution count 2: 8.5 3.5 \n",
    "\n",
    "Optimal solution found (tolerance 1.00e-04)\n",
    "Best objective 8.500000000000e+00, best bound 8.500000000000e+00, gap 0.0000%\n",
    "\n",
    "Objective Function Value: 8.50\n",
    "x: 1\n",
    "y: 0.5\n",
    "z: 2\n",
    "\n",
    "\"\"\""
   ]
  },
  {
   "cell_type": "code",
   "execution_count": null,
   "id": "92f7bb15",
   "metadata": {},
   "outputs": [],
   "source": []
  },
  {
   "cell_type": "code",
   "execution_count": null,
   "id": "184eb311",
   "metadata": {},
   "outputs": [],
   "source": []
  },
  {
   "cell_type": "code",
   "execution_count": null,
   "id": "3467de3f",
   "metadata": {},
   "outputs": [],
   "source": []
  }
 ],
 "metadata": {
  "kernelspec": {
   "display_name": "Python 3",
   "language": "python",
   "name": "python3"
  },
  "language_info": {
   "codemirror_mode": {
    "name": "ipython",
    "version": 3
   },
   "file_extension": ".py",
   "mimetype": "text/x-python",
   "name": "python",
   "nbconvert_exporter": "python",
   "pygments_lexer": "ipython3",
   "version": "3.13.1"
  }
 },
 "nbformat": 4,
 "nbformat_minor": 5
}
